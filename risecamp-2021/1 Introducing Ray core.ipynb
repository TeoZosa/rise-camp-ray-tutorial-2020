{
 "cells": [
  {
   "cell_type": "code",
   "execution_count": null,
   "metadata": {},
   "outputs": [],
   "source": [
    "# Some imports and constants that we will need later on.\n",
    "import ray\n",
    "import pandas as pd\n",
    "import numpy as np\n",
    "\n",
    "COLUMNS='ABCD'\n",
    "SIZE_100MiB = 100 * 1024 * 1024"
   ]
  },
  {
   "cell_type": "markdown",
   "metadata": {},
   "source": [
    "First, let's try generating a random DataFrame using normal Python. How long does this take?"
   ]
  },
  {
   "cell_type": "code",
   "execution_count": null,
   "metadata": {},
   "outputs": [],
   "source": [
    "def generate_random_array():\n",
    "    return pd.DataFrame(np.random.randint(0, 100,\n",
    "            size=(SIZE_100MiB // len(COLUMNS), len(COLUMNS))),\n",
    "            columns=list(COLUMNS),\n",
    "            dtype=np.uint8)\n",
    "\n",
    "%time generate_random_array()"
   ]
  },
  {
   "cell_type": "markdown",
   "metadata": {},
   "source": [
    "# Introducing Ray core\n",
    "\n",
    "Now let's try speeding that up with Ray. Your laptop has multiple cores that we can use to speed up this computation.\n",
    "\n",
    "First, we'll start a local instance of Ray using `ray.init()`. Under the hood, this will create multiple Python workers that can start executing work in parallel."
   ]
  },
  {
   "cell_type": "code",
   "execution_count": null,
   "metadata": {},
   "outputs": [],
   "source": [
    "ray.init(ignore_reinit_error=True)"
   ]
  },
  {
   "cell_type": "markdown",
   "metadata": {},
   "source": [
    "Next, let's try turning that code that we ran earlier into a Ray *task*. This is a function that can run remotely, on a different Python process from the one that called the function.\n",
    "\n",
    "Each task returns an *`ObjectRef`*, which is a future that can be used to get the result. The value of an `ObjectRef` can also be stored in distributed memory, which means that you can create a large object without having to allocate memory in the local process. If this were running on multiple nodes, the object could even be stored on a different machine!\n",
    "\n",
    "Evaluate the next cell to see how you can invoke and get the result of a remote function."
   ]
  },
  {
   "cell_type": "code",
   "execution_count": null,
   "metadata": {},
   "outputs": [],
   "source": [
    "@ray.remote\n",
    "def generate_random_array():\n",
    "    return pd.DataFrame(np.random.randint(0, 100,\n",
    "            size=(SIZE_100MiB // len(COLUMNS), len(COLUMNS))),\n",
    "            columns=list(COLUMNS),\n",
    "            dtype=np.uint8)\n",
    "\n",
    "# Why does this line return immediately?\n",
    "%time ref = generate_random_array.remote()\n",
    "# CPU times: user 5.3 ms, sys: 431 µs, total: 5.73 ms\n",
    "# Wall time: 5.39 ms\n",
    "\n",
    "# How long does the commented out line take?\n",
    "# What does it return?\n",
    "# %time ray.get(ref)"
   ]
  },
  {
   "cell_type": "markdown",
   "metadata": {},
   "source": [
    "The code that we just ran isn't very useful! It just calls the same function in a different Python process, so we didn't have to execute it locally, but it still took just as long.\n",
    "\n",
    "However, since tasks execute asynchronously, we can use that to parallelize the code across our cores. Try this out yourself in the next cell."
   ]
  },
  {
   "cell_type": "code",
   "execution_count": null,
   "metadata": {},
   "outputs": [],
   "source": [
    "PARALLELISM = 8\n",
    "\n",
    "@ray.remote\n",
    "def generate_random_array(array_size):\n",
    "    return pd.DataFrame(np.random.randint(0, 100,\n",
    "            size=(array_size // len(COLUMNS), len(COLUMNS))),\n",
    "            columns=list(COLUMNS),\n",
    "            dtype=np.uint8)\n",
    "\n",
    "# TODO: Populate the refs list with a list of ObjectRefs, which get computed by Ray in parallel.\n",
    "%time refs = []\n",
    "\n",
    "%time ray.get(refs)"
   ]
  },
  {
   "cell_type": "code",
   "execution_count": null,
   "metadata": {},
   "outputs": [],
   "source": []
  }
 ],
 "metadata": {
  "kernelspec": {
   "display_name": "Python 3",
   "language": "python",
   "name": "python3"
  },
  "language_info": {
   "codemirror_mode": {
    "name": "ipython",
    "version": 3
   },
   "file_extension": ".py",
   "mimetype": "text/x-python",
   "name": "python",
   "nbconvert_exporter": "python",
   "pygments_lexer": "ipython3",
   "version": "3.6.10"
  }
 },
 "nbformat": 4,
 "nbformat_minor": 4
}
