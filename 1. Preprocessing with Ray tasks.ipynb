{
 "cells": [
  {
   "cell_type": "markdown",
   "metadata": {},
   "source": [
    "# Preprocessing with Ray tasks\n",
    "\n",
    "Cloud servers today often have multiple cores.\n",
    "We can use Ray to parallelize the available work across both all the cores in a single machine and all the machines in a cluster.\n",
    "\n",
    "Our local (SQLite) database maps a movie ID to information about the movie, including a color palette.\n",
    "But some of the color palettes are missing!\n",
    "In this tutorial, we'll use *Ray tasks* to parallelize the preprocessing step that gathers all of the missing color palettes from a dataset of movie covers.\n",
    "\n",
    "\n",
    "## Serial execution\n",
    "\n",
    "First, let's take a look at a serial execution of the code, without Ray.\n",
    "Evaluate the next two notebook cells (shift+return, if you're new to notebooks), down to and including get_palette(...):"
   ]
  },
  {
   "cell_type": "code",
   "execution_count": null,
   "metadata": {},
   "outputs": [],
   "source": [
    "# Some imports that we'll need later on.\n",
    "import json\n",
    "from tqdm import tqdm\n",
    "\n",
    "from colorthief import ColorThief\n",
    "import ray\n",
    "\n",
    "from util import MOVIE_IDS, get_db_connection, load_image, progress_bar, delete_palettes"
   ]
  },
  {
   "cell_type": "code",
   "execution_count": null,
   "metadata": {},
   "outputs": [],
   "source": [
    "def get_palette(movie_id):\n",
    "    return ColorThief(load_image(movie_id)).get_palette(color_count=6)"
   ]
  },
  {
   "cell_type": "markdown",
   "metadata": {},
   "source": [
    "This is the function that we'll use to preprocess a single image.\n",
    "This function loads an image from disk and then gets the palette using a handy open source library called `colorthief`.\n",
    "The function returns the palette, which is just a list of integer tuples representing RBG values.\n",
    "\n",
    "Try running the function on an image ID to see how long it takes.\n",
    "You can pick an image ID from the `IMAGE_IDS` variable, which is a list of all of the available movie IDs:"
   ]
  },
  {
   "cell_type": "code",
   "execution_count": null,
   "metadata": {},
   "outputs": [],
   "source": [
    "%time get_palette(MOVIE_IDS[0])"
   ]
  },
  {
   "cell_type": "markdown",
   "metadata": {},
   "source": [
    "That should have taken several seconds.\n",
    "Hopefully, we can do better with Ray!\n",
    "\n",
    "Let's try running this function on many images next.\n",
    "First we'll fetch all of movies from our local (SQLite) database that are currently missing a color palette.\n",
    "We'll get the movie IDs from the database and use these as an input to the `get_palette` function that we defined above."
   ]
  },
  {
   "cell_type": "code",
   "execution_count": null,
   "metadata": {},
   "outputs": [],
   "source": [
    "def get_missing_palettes():\n",
    "    db = get_db_connection()\n",
    "    c = db.execute(\"SELECT id, palette_json FROM movies WHERE palette_json == ''\")\n",
    "    return [r[0] for r in c.fetchall()]\n",
    "\n",
    "movie_ids = get_missing_palettes()\n",
    "print(\"Missing {} movie palettes.\".format(len(movie_ids)))"
   ]
  },
  {
   "cell_type": "markdown",
   "metadata": {},
   "source": [
    "Next we'll run `get_palette` on each of these image IDs.\n",
    "**Evaluate the next cell and let it run.**\n",
    "We'll use the `tqdm` library to display a progress bar.\n",
    "\n",
    "As expected, the palettes are taking a while to generate.\n",
    "That makes sense since we're running the `get_palette` function one movie at a time, and each image takes several seconds to process.\n",
    "\n",
    "**Cancel the execution of the cell using the &#x25A0; button in the toolbar above.**\n",
    "We'll try it again, this time using Ray to parallelize the execution"
   ]
  },
  {
   "cell_type": "code",
   "execution_count": null,
   "metadata": {},
   "outputs": [],
   "source": [
    "palettes = []\n",
    "for movie_id in tqdm(movie_ids):\n",
    "    palettes.append(get_palette(movie_id))"
   ]
  },
  {
   "cell_type": "markdown",
   "metadata": {},
   "source": [
    "## Let's Start Ray\n",
    "\n",
    "Each notebook will start a mini-cluster with one node when we call ray.init() below. They we'll shut it down at the end of the notebook, so be sure to evaluate the last cell in each notebook that calls ray.shutdown().\n",
    "\n",
    "The ignore_reinit_error=True argument tells Ray not to complain if we rerun the cell; Ray will just ignore the request to initialize."
   ]
  },
  {
   "cell_type": "code",
   "execution_count": null,
   "metadata": {},
   "outputs": [],
   "source": [
    "ray.init(ignore_reinit_error=True)"
   ]
  },
  {
   "cell_type": "markdown",
   "metadata": {},
   "source": [
    "## From Python Functions to Ray Task\n",
    "\n",
    "Now that we have a Ray cluster, we can begin to submit *tasks* to the cluster.\n",
    "You create a Ray _task_ by decorating a normal Python function with `@ray.remote`. These tasks will be scheduled across your Ray cluster.\n",
    "\n",
    "> **Tip:** The [Ray Package Reference](https://ray.readthedocs.io/en/latest/package-ref.html) in the [Ray Docs](https://ray.readthedocs.io/en/latest/) is useful for exploring the API features we'll learn.\n",
    "\n",
    "**Try this yourself!** Go up to the cell with the `get_palette` definition and add a `@ray.remote` decorator right before the `def get_palette` line.\n",
    "This will indicate to Ray that the function can be run on a remote process.\n",
    "\n",
    "Next, try creating a Ray task.\n",
    "To invoke a task, you use function.remote(args):"
   ]
  },
  {
   "cell_type": "code",
   "execution_count": null,
   "metadata": {},
   "outputs": [],
   "source": [
    "%time get_palette.remote(MOVIE_IDS[0])"
   ]
  },
  {
   "cell_type": "markdown",
   "metadata": {},
   "source": [
    "What is this `ObjectRef`? A Ray task is an *asynchronous* computation. You'll notice this finished a lot faster than when we ran `get_palette` serially. That's because the actual computation is happening in the background, on a different process.\n",
    "\n",
    "The `ObjectRef` returned is a future that we use to retrieve the resulting value from the task when it completes. We use `ray.get(ref)` to get it:"
   ]
  },
  {
   "cell_type": "code",
   "execution_count": null,
   "metadata": {},
   "outputs": [],
   "source": [
    "ref = get_palette.remote(MOVIE_IDS[0])\n",
    "%time ray.get(ref)"
   ]
  },
  {
   "cell_type": "markdown",
   "metadata": {},
   "source": [
    "We can also work with lists of `ObjectRefs`:"
   ]
  },
  {
   "cell_type": "code",
   "execution_count": null,
   "metadata": {},
   "outputs": [],
   "source": [
    "refs = [get_palette.remote(MOVIE_IDS[i]) for i in range(3)]\n",
    "%time ray.get(refs)"
   ]
  },
  {
   "cell_type": "markdown",
   "metadata": {},
   "source": [
    "This last cell actually processed three different movie covers *in parallel*.\n",
    "We let Ray know that the movie covers could be processed in parallel by launching three `get_palette` tasks, each on a separate image ID.\n",
    "Since tasks are asynchronous, this should have finished in a few milliseconds.\n",
    "\n",
    "We let Ray know when we need the results with the `ray.get` call.\n",
    "This will block until *all* of the functions have finished.\n",
    "Like the previous version, this also took several seconds to finish.\n",
    "The difference is that this time we actually processed three movie covers at the same time, instead of just one!\n",
    "\n",
    "Now let's try running this on all of the missing color palettes.\n",
    "We'll use the helper function `progress_bar` to display the progress during the `ray.get` call.\n",
    "Try this yourself:"
   ]
  },
  {
   "cell_type": "code",
   "execution_count": null,
   "metadata": {},
   "outputs": [],
   "source": [
    "palettes = [get_palette.remote(movie_id) for movie_id in movie_ids]\n",
    "palettes = ray.get(progress_bar(palettes))"
   ]
  },
  {
   "cell_type": "markdown",
   "metadata": {},
   "source": [
    "That should have finished in several seconds!\n",
    "Now, we just need to save the missing palettes into the database and clean up the cluster:"
   ]
  },
  {
   "cell_type": "code",
   "execution_count": null,
   "metadata": {},
   "outputs": [],
   "source": [
    "db = get_db_connection()\n",
    "for movie_id, palette in zip(movie_ids, palettes):\n",
    "    db.execute(\n",
    "        \"UPDATE movies SET palette_json = ('{}') WHERE id == ({})\".format(json.dumps(palette), movie_id)\n",
    "    )\n",
    "db.commit()\n",
    "\n",
    "ray.shutdown()"
   ]
  },
  {
   "cell_type": "markdown",
   "metadata": {},
   "source": [
    "## If you need to start over:\n",
    "\n",
    "Run this code to delete `n` color palettes from the database. Then, you can start the notebook again to fill out the missing palettes."
   ]
  },
  {
   "cell_type": "code",
   "execution_count": null,
   "metadata": {},
   "outputs": [],
   "source": [
    "from util import delete_palettes\n",
    "\n",
    "delete_palettes(n=100)"
   ]
  }
 ],
 "metadata": {
  "kernelspec": {
   "display_name": "Python 3",
   "language": "python",
   "name": "python3"
  },
  "language_info": {
   "codemirror_mode": {
    "name": "ipython",
    "version": 3
   },
   "file_extension": ".py",
   "mimetype": "text/x-python",
   "name": "python",
   "nbconvert_exporter": "python",
   "pygments_lexer": "ipython3",
   "version": "3.6.10"
  }
 },
 "nbformat": 4,
 "nbformat_minor": 4
}
