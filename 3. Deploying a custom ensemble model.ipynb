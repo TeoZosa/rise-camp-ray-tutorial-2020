{
 "cells": [
  {
   "cell_type": "markdown",
   "metadata": {},
   "source": [
    "# Deploying an ensemble model with custom application logic\n",
    "\n",
    "In the last notebook, we learned how to deploy two models that don't interact.\n",
    "In this notebook, we'll learn how to compose these models together into an *ensemble* model.\n",
    "We'll use custom logic expressed directly in Python to determine how to compose the models.\n",
    "\n",
    "First, we'll start with a simple version that takes half its results from the plot-based recommender and half from the color-based recommender.\n",
    "Once we have that working, we'll try a more complex version that learns *online* how much of each to return, based on the particular user's preferences.\n",
    "For example, a user that prefers recommendations based on plot will receive more and more of these with each new request.\n",
    "\n",
    "## If you haven't finished notebooks 1 and/or 2 yet:\n",
    "\n",
    "Evaluate the next cell to fill out the missing movie palettes in the local database and deploy a plot and color recommender.\n",
    "This will let you do this notebook without having finished the first two yet."
   ]
  },
  {
   "cell_type": "code",
   "execution_count": null,
   "metadata": {},
   "outputs": [],
   "source": [
    "%%bash\n",
    "bash run_1.sh\n",
    "bash run_2.sh"
   ]
  },
  {
   "cell_type": "markdown",
   "metadata": {},
   "source": [
    "## Connect to Ray Serve\n",
    "\n",
    "First let's set up a connection to the Ray cluster and Serve instance that we started in the last notebook."
   ]
  },
  {
   "cell_type": "code",
   "execution_count": null,
   "metadata": {},
   "outputs": [],
   "source": [
    "import ray\n",
    "from ray import serve\n",
    "from util import MOVIE_IDS\n",
    "import requests\n",
    "\n",
    "ray.init(address=\"auto\", ignore_reinit_error=True)\n",
    "client = serve.connect()\n",
    "\n",
    "# Some helper methods copied from the previous notebook to ping the color and plot backends.\n",
    "def send_color_request(movie_id):\n",
    "    color_handle = client.get_handle(\"color\")\n",
    "    return ray.get(color_handle.remote(liked_id=MOVIE_IDS[0]))\n",
    "\n",
    "def send_plot_request(movie_id):\n",
    "    plot_handle = client.get_handle(\"plot\")\n",
    "    return ray.get(plot_handle.remote(liked_id=MOVIE_IDS[0]))"
   ]
  },
  {
   "cell_type": "markdown",
   "metadata": {},
   "source": [
    "## Deploying a static ensemble model\n",
    "\n",
    "Let's see how we can use the `choose_ensemble_results` helper function to return the right distribution of results from the plot and color recommenders.\n",
    "This function has 3 return values:\n",
    "\n",
    "1. The normalized distribution of \"color\" and \"plot\" recommendations, computed from the weights given as the first argument.\n",
    "2. A dict that maps the recommendation type (\"color\" or \"plot\") to a list of recommendations of that type that were picked.\n",
    "3. A list of the concatenated results from the \"color\" and \"plot\" recommenders that were given as the second argument. This list is picked based on the normalized distribution.\n",
    "\n",
    "**Task:** Try playing with the helper function to understand how it works. You can modify the weights given in the first argument and/or the recommendations given in the second argument."
   ]
  },
  {
   "cell_type": "code",
   "execution_count": null,
   "metadata": {},
   "outputs": [],
   "source": [
    "from util import choose_ensemble_results\n",
    "\n",
    "color_recs = send_color_request(MOVIE_IDS[0])\n",
    "plot_recs = send_plot_request(MOVIE_IDS[0])\n",
    "# Weight color and plot recommendations equally.\n",
    "choose_ensemble_results({\"color\": 1, \"plot\": 1}, {\"color\": color_recs, \"plot\": plot_recs})"
   ]
  },
  {
   "cell_type": "markdown",
   "metadata": {},
   "source": [
    "**Task:** Let's try writing a static ensemble model that fetches results from the color- and plot-based recommenders and combines them with this helper function. Once you've finished the implementation, evaluate the following two cells to deploy the ensemble model and test it out. Here is a skeleton to get you started:"
   ]
  },
  {
   "cell_type": "code",
   "execution_count": null,
   "metadata": {},
   "outputs": [],
   "source": [
    "class ComposedModel:\n",
    "    def __init__(self):\n",
    "        # Get handles to the two underlying models.\n",
    "        client = serve.connect()\n",
    "        self.color_handle = client.get_handle(\"color\")\n",
    "        self.plot_handle = client.get_handle(\"plot\")\n",
    "\n",
    "    def __call__(self, request):\n",
    "        # TODO: Call the two models and get their predictions.\n",
    "\n",
    "        # TODO: Combine the results using choose_ensemble_results.Select which results to send to the user based on their clicks.\n",
    "        #distribution, impressions, chosen = choose_ensemble_results(...)\n",
    "\n",
    "        return {\n",
    "#             \"dist\": distribution,\n",
    "#             \"ids\": chosen,\n",
    "#             \"sources\": {\n",
    "#                 i[\"id\"]: source\n",
    "#                 for source, impression in impressions.items()\n",
    "#                 for i in impression\n",
    "#             }\n",
    "        }"
   ]
  },
  {
   "cell_type": "code",
   "execution_count": null,
   "metadata": {},
   "outputs": [],
   "source": [
    "# Delete the ensemble endpoint and backend, if they exist.\n",
    "# We wrap it in a try-except block since they shouldn't exist on the first evaluation.\n",
    "try:\n",
    "    client.delete_endpoint(\"ensemble\")\n",
    "    client.delete_backend(\"ensemble:v0\")\n",
    "except:\n",
    "    pass\n",
    "\n",
    "# Create the ensemble backend and endpoint.\n",
    "# Tip! You can run this cell again if you need to debug the ComposedModel code.\n",
    "client.create_backend(\"ensemble:v0\", ComposedModel)\n",
    "client.create_endpoint(\"ensemble\", backend=\"ensemble:v0\", route=\"/rec/ensemble\")"
   ]
  },
  {
   "cell_type": "code",
   "execution_count": null,
   "metadata": {},
   "outputs": [],
   "source": [
    "def send_ensemble_request(movie_id, session_key=None):\n",
    "    r = requests.get(\"http://localhost:8000/rec/ensemble\", params={\"liked_id\": MOVIE_IDS[0],\n",
    "                                                                   \"session_key\": session_key})\n",
    "    return r.json()\n",
    "\n",
    "print(send_ensemble_request(MOVIE_IDS[0]))"
   ]
  },
  {
   "cell_type": "markdown",
   "metadata": {},
   "source": [
    "## Deploying a custom ensemble model\n",
    "\n",
    "Now let's try shifting the distribution based on what the user has selected before!\n",
    "This will involve saving some session state for each user.\n",
    "Each time the user selects a new movie that they like, we'll record that in their session state.\n",
    "We'll also record the source of any recommendations that the user likes, either the \"plot\" or \"color\" recommender.\n",
    "Whenever the user selects a movie, we'll use the recorded source to decide how to shift the user's distribution.\n",
    "\n",
    "On each request to the ensemble model, we'll include a session key that is unique per user which can be used to look up the session state.\n",
    "We'll use a separate actor to record the mapping from session key to session state.\n",
    "Let's take a look at how this works."
   ]
  },
  {
   "cell_type": "code",
   "execution_count": null,
   "metadata": {},
   "outputs": [],
   "source": [
    "from util import ImpressionStore\n",
    "\n",
    "# Create an actor to store the session state.\n",
    "impression_store = ImpressionStore.remote()\n",
    "test_session_key = \"session\"\n",
    "\n",
    "# Initially, we have no information about the test user's preferred distribution.\n",
    "print(\"Initial distribution:\",\n",
    "      dict(ray.get(impression_store.model_distribution.remote(test_session_key, MOVIE_IDS[0]))))\n",
    "\n",
    "# Mimic getting some results from the color and plot recommenders.\n",
    "color_recs = send_color_request(MOVIE_IDS[0])\n",
    "plot_recs = send_plot_request(MOVIE_IDS[0])\n",
    "_, impressions, _ = choose_ensemble_results({\"color\": 1, \"plot\": 1}, {\"color\": color_recs, \"plot\": plot_recs})\n",
    "# Record the source of recommendations made to the test user.\n",
    "impression_store.record_impressions.remote(test_session_key, impressions)\n",
    "\n",
    "# Mimic the user selecting a recommendation based on color.\n",
    "# Now the distribution will assign color recommendations a weight of 1.\n",
    "print(\n",
    "    \"Distribution after selecting a movie from the color recommender:\",\n",
    "    dict(ray.get(impression_store.model_distribution.remote(test_session_key, color_recs[0][\"id\"]))))"
   ]
  },
  {
   "cell_type": "markdown",
   "metadata": {},
   "source": [
    "**Task:** Modify the ensemble model to update the impression store.\n",
    "1. Modify the `ComposedModel` class to instantiate an `ImpressionStore` actor, similar to the above cell, in the `__init__` method.\n",
    "2. Extract the `\"session_key\"` from the `request` argument, similar to how we extracted the `\"liked_id\"` in the `ColorRecommender` and `PlotRecommender` classes.\n",
    "3. Update the `ImpressionStore` actor with each request and use the returned distribution to choose the ensemble results.\n",
    "\n",
    "Once you've finished these steps, evaluate the next cell to deploy the new backend.\n",
    "The following cell generates some test requests that chooses recommendations based on color, so that you can see how the distribution changes with each selection."
   ]
  },
  {
   "cell_type": "code",
   "execution_count": null,
   "metadata": {},
   "outputs": [],
   "source": [
    "# Delete the ensemble endpoint and backend, if they exist.\n",
    "# We wrap it in a try-except block since they shouldn't exist on the first evaluation.\n",
    "client.delete_endpoint(\"ensemble\")\n",
    "client.delete_backend(\"ensemble:v0\")\n",
    "\n",
    "# Create the ensemble backend and endpoint.\n",
    "# Tip! You can run this cell again if you need to debug the ComposedModel code.\n",
    "client.create_backend(\"ensemble:v0\", ComposedModel)\n",
    "client.create_endpoint(\"ensemble\", backend=\"ensemble:v0\", route=\"/rec/ensemble\")"
   ]
  },
  {
   "cell_type": "code",
   "execution_count": null,
   "metadata": {},
   "outputs": [],
   "source": [
    "response = send_ensemble_request(MOVIE_IDS[0], session_key=test_session_key)\n",
    "print(\"Initial recommendation\", response)\n",
    "for movie_id, source in response.items():\n",
    "    if source == \"color\":\n",
    "        break\n",
    "response = send_ensemble_request(movie_id, session_key=test_session_key)\n",
    "print(\"Recommendation after selecting a color recommendation:\", response)"
   ]
  },
  {
   "cell_type": "code",
   "execution_count": null,
   "metadata": {},
   "outputs": [],
   "source": []
  }
 ],
 "metadata": {
  "kernelspec": {
   "display_name": "Python 3",
   "language": "python",
   "name": "python3"
  },
  "language_info": {
   "codemirror_mode": {
    "name": "ipython",
    "version": 3
   },
   "file_extension": ".py",
   "mimetype": "text/x-python",
   "name": "python",
   "nbconvert_exporter": "python",
   "pygments_lexer": "ipython3",
   "version": "3.6.10"
  }
 },
 "nbformat": 4,
 "nbformat_minor": 4
}
