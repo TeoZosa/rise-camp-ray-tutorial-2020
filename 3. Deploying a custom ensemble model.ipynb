{
 "cells": [
  {
   "cell_type": "markdown",
   "metadata": {},
   "source": [
    "# Deploying an ensemble model with custom application logic\n",
    "\n",
    "In the last notebook, we learned how to deploy two models that don't interact.\n",
    "In this notebook, we'll learn how to compose these models together into an *ensemble* model.\n",
    "We'll use custom logic expressed directly in Python to determine how to compose the models.\n",
    "\n",
    "First, we'll start with a simple version that takes half its results from the plot-based recommender and half from the color-based recommender.\n",
    "Once we have that working, we'll try a more complex version that learns *online* how much of each to return, based on the particular user's preferences.\n",
    "For example, a user that prefers recommendations based on plot will receive more and more of these with each new request.\n",
    "\n",
    "## If you haven't finished notebooks 1 and/or 2 yet:\n",
    "\n",
    "Evaluate the next cell to fill out the missing movie palettes in the local database and deploy a plot and color recommender.\n",
    "This will let you do this notebook without having finished the first two yet."
   ]
  },
  {
   "cell_type": "code",
   "execution_count": null,
   "metadata": {},
   "outputs": [],
   "source": [
    "%%bash\n",
    "# These commands might take several seconds to run.\n",
    "bash run_1.sh\n",
    "bash run_2.sh > out"
   ]
  },
  {
   "cell_type": "markdown",
   "metadata": {},
   "source": [
    "## Connect to Ray Serve\n",
    "\n",
    "First let's set up a connection to the Ray cluster and Serve instance that we started in the last notebook."
   ]
  },
  {
   "cell_type": "code",
   "execution_count": null,
   "metadata": {},
   "outputs": [],
   "source": [
    "import ray\n",
    "from ray import serve\n",
    "from util import MOVIE_IDS\n",
    "import requests\n",
    "\n",
    "ray.init(address=\"auto\", ignore_reinit_error=True)\n",
    "client = serve.connect()\n",
    "\n",
    "# Some helper methods copied from the previous notebook to ping the color and plot backends.\n",
    "def send_color_request(movie_id):\n",
    "    color_handle = client.get_handle(\"color\")\n",
    "    return ray.get(color_handle.remote(liked_id=MOVIE_IDS[0]))\n",
    "\n",
    "def send_plot_request(movie_id):\n",
    "    plot_handle = client.get_handle(\"plot\")\n",
    "    return ray.get(plot_handle.remote(liked_id=MOVIE_IDS[0]))"
   ]
  },
  {
   "cell_type": "markdown",
   "metadata": {},
   "source": [
    "## Deploying a static ensemble model\n",
    "\n",
    "First, we'll deploy a static version of the model.\n",
    "We'll create a backend that gets recommendations from the color and plot backends, then combines them according to some distribution.\n",
    "Initially, we'll weight the color and plot recommendations equally.\n",
    "\n",
    "By the end of this section, we'll have a system that looks something like this:\n",
    "\n",
    "![](serve-notebook-3-1.jpg \"Ray Serve diagram\")"
   ]
  },
  {
   "cell_type": "markdown",
   "metadata": {},
   "source": [
    "Let's see how we can use the `choose_ensemble_results` helper function to return the right distribution of results from the plot and color recommenders.\n",
    "This function has 3 return values:\n",
    "\n",
    "1. The normalized distribution of \"color\" and \"plot\" recommendations, computed from the weights given as the first argument.\n",
    "2. A dict that maps the recommendation type (\"color\" or \"plot\") to a list of recommendations of that type that were picked.\n",
    "3. A list of the concatenated results from the \"color\" and \"plot\" recommenders that were given as the second argument. This list is picked based on the normalized distribution.\n",
    "\n",
    "**Task:** Try playing with the helper function to understand how it works. You can modify the weights given in the first argument and/or the recommendations given in the second argument."
   ]
  },
  {
   "cell_type": "code",
   "execution_count": null,
   "metadata": {},
   "outputs": [],
   "source": [
    "from util import choose_ensemble_results\n",
    "\n",
    "color_recs = send_color_request(MOVIE_IDS[0])\n",
    "plot_recs = send_plot_request(MOVIE_IDS[0])\n",
    "# Weight color and plot recommendations equally.\n",
    "choose_ensemble_results({\"color\": 1, \"plot\": 1}, {\"color\": color_recs, \"plot\": plot_recs})"
   ]
  },
  {
   "cell_type": "markdown",
   "metadata": {},
   "source": [
    "**Task:** Let's try writing a static ensemble model that fetches results from the color- and plot-based recommenders and combines them with this helper function. Once you've finished the implementation, evaluate the following two cells to deploy the ensemble model and test it out. Here is a skeleton to get you started:\n",
    "\n",
    "**If you haven't finished but want to move on:** We've included a reference implementation of `ComposedModel` in the next cell. Show the code by clicking the \"...\" and evaluate it."
   ]
  },
  {
   "cell_type": "code",
   "execution_count": null,
   "metadata": {},
   "outputs": [],
   "source": [
    "class ComposedModel:\n",
    "    def __init__(self):\n",
    "        # Get handles to the two underlying models.\n",
    "        client = serve.connect()\n",
    "        self.color_handle = client.get_handle(\"color\")\n",
    "        self.plot_handle = client.get_handle(\"plot\")\n",
    "\n",
    "    def __call__(self, request):\n",
    "        # TODO: Call the two models and get their predictions.\n",
    "        # Tip: Check out the implementations of `send_color_request` and `send_plot_request`\n",
    "        # to see how to use `self.color_handle` and `self.plot_handle` to get the recommendations.\n",
    "\n",
    "        # TODO: Combine the results using choose_ensemble_results.\n",
    "        #distribution, impressions, chosen = choose_ensemble_results(...)\n",
    "\n",
    "        return {\n",
    "#             \"dist\": distribution,\n",
    "#             \"ids\": chosen,\n",
    "#             \"sources\": {\n",
    "#                 i[\"id\"]: source\n",
    "#                 for source, impression in impressions.items()\n",
    "#                 for i in impression\n",
    "#             }\n",
    "        }"
   ]
  },
  {
   "cell_type": "code",
   "execution_count": null,
   "metadata": {
    "jupyter": {
     "source_hidden": true
    }
   },
   "outputs": [],
   "source": [
    "class ComposedModel:\n",
    "    def __init__(self):\n",
    "        # Get handles to the two underlying models.\n",
    "        client = serve.connect()\n",
    "        self.color_handle = client.get_handle(\"color\")\n",
    "        self.plot_handle = client.get_handle(\"plot\")\n",
    "\n",
    "    def __call__(self, request):\n",
    "        # Call the two models and get their predictions.\n",
    "        liked_id = request.args[\"liked_id\"]\n",
    "        color_recs = self.color_handle.remote(liked_id=liked_id)\n",
    "        plot_recs = self.plot_handle.remote(liked_id=liked_id)\n",
    "        color_recs, plot_recs = ray.get([color_recs, plot_recs])\n",
    "\n",
    "        # Combine the results using choose_ensemble_results.\n",
    "        distribution, impressions, chosen = choose_ensemble_results({\n",
    "            \"color\": 1,\n",
    "            \"plot\": 1,\n",
    "        }, {\n",
    "            \"color\": color_recs,\n",
    "            \"plot\": plot_recs,\n",
    "        })\n",
    "\n",
    "        return {\n",
    "            \"dist\": distribution,\n",
    "            \"ids\": chosen,\n",
    "            \"sources\": {\n",
    "                i[\"id\"]: source\n",
    "                for source, impression in impressions.items()\n",
    "                for i in impression\n",
    "            }\n",
    "        }"
   ]
  },
  {
   "cell_type": "code",
   "execution_count": null,
   "metadata": {},
   "outputs": [],
   "source": [
    "# Delete the ensemble endpoint and backend, if they exist.\n",
    "# We wrap it in a try-except block since they shouldn't exist on the first evaluation.\n",
    "try:\n",
    "    client.delete_endpoint(\"ensemble\")\n",
    "    client.delete_backend(\"ensemble:v0\")\n",
    "except:\n",
    "    pass\n",
    "\n",
    "# Create the ensemble backend and endpoint.\n",
    "# Tip! You can run this cell again if you need to debug the ComposedModel code.\n",
    "client.create_backend(backend_tag=\"ensemble:v0\", func_or_class=ComposedModel)\n",
    "client.create_endpoint(endpoint_name=\"ensemble\", backend=\"ensemble:v0\", route=\"/rec/ensemble\")"
   ]
  },
  {
   "cell_type": "code",
   "execution_count": null,
   "metadata": {},
   "outputs": [],
   "source": [
    "def send_ensemble_request(movie_id, session_key=None):\n",
    "    r = requests.get(\"http://localhost:8000/rec/ensemble\", params={\"liked_id\": movie_id,\n",
    "                                                                   \"session_key\": session_key})\n",
    "    if r.status_code == 200:\n",
    "        return r.json()\n",
    "    print(r.text)\n",
    "\n",
    "send_ensemble_request(MOVIE_IDS[0])"
   ]
  },
  {
   "cell_type": "markdown",
   "metadata": {},
   "source": [
    "## Deploying a custom ensemble model\n",
    "\n",
    "Now let's try shifting the distribution based on what the user has selected before!\n",
    "This will involve saving some session state for each user.\n",
    "The session state will consist of the source (\"plot\" or \"color\") for every recommendation made to the user so far, as well as the number of color- and plot-based recommendations that the user previously liked.\n",
    "\n",
    "On each request to the ensemble model, we'll include a session key that is unique per user which can be used to look up the session state.\n",
    "Each time the user selects a movie recommendation that they like, we'll look up the source of that recommendation, if we have it.\n",
    "Then, we'll increment the appropriate count in their session state, either \"plot\" or \"color\".\n",
    "\n",
    "To store each user's session state, we'll use a Ray *actor*.\n",
    "Just as Ray *tasks* extend the familiar concept of Python *functions*, Ray *actors* extend the concept of Python *classes*.\n",
    "Whereas tasks are *stateless*, actors are *stateful*, meaning that they keep their local state from task to task.\n",
    "\n",
    "By the end of this section, we'll have a system that looks something like this:\n",
    "\n",
    "![](serve-notebook-3-2.jpg \"Ray Serve diagram\")"
   ]
  },
  {
   "cell_type": "markdown",
   "metadata": {},
   "source": [
    "### Reading and writing from a custom Ray actor\n",
    "\n",
    "We'll use a predefined `ImpressionStore` class to store the mapping from session key to session state.\n",
    "Let's take a look at how we can instantiate this class as an actor and send it requests.\n",
    "\n",
    "First, we'll create an `ImpressionStore` actor to store each user's session state and show how to extract the user's distribution based on a movie that the test user just liked.\n",
    "Just like with non-actor tasks, we can submit a task to the actor by specifying a method name and the `.remote()` suffix.\n",
    "The task returns an `ObjectRef`, whose value we can get using `ray.get()`.\n",
    "\n",
    "Since we haven't made any recommendations yet, the actor won't have a recommendation source for the movie liked by the user, so it will just return an empty dictionary.\n",
    "This means that the actor knows nothing about the number of color- versus plot-based recommendations that the user prefers."
   ]
  },
  {
   "cell_type": "code",
   "execution_count": null,
   "metadata": {},
   "outputs": [],
   "source": [
    "from util import ImpressionStore\n",
    "\n",
    "# Create an actor to store the session state.\n",
    "impression_store = ImpressionStore.remote()\n",
    "test_session_key = \"session\"\n",
    "\n",
    "# Initially, we have no information about the test user's preferred distribution.\n",
    "print(\"Initial distribution:\",\n",
    "      dict(ray.get(impression_store.model_distribution.remote(test_session_key, MOVIE_IDS[0]))))"
   ]
  },
  {
   "cell_type": "markdown",
   "metadata": {},
   "source": [
    "Next we'll mimic getting some results from the color and plot recommenders and show to update the `ImpressionStore` actor's state with the source of the recommendations."
   ]
  },
  {
   "cell_type": "code",
   "execution_count": null,
   "metadata": {},
   "outputs": [],
   "source": [
    "# Mimic getting some results from the color and plot recommenders.\n",
    "color_recs = send_color_request(MOVIE_IDS[0])\n",
    "plot_recs = send_plot_request(MOVIE_IDS[0])\n",
    "\n",
    "# impressions is a dictionary mapping the recommendation source (\"color\" or \"plot\") to a\n",
    "# list of movies returned by that recommender.\n",
    "_, impressions, recs = choose_ensemble_results({\"color\": 1, \"plot\": 1}, {\"color\": color_recs, \"plot\": plot_recs})\n",
    "\n",
    "# Record the source of recommendations made to the test user.\n",
    "# We don't need to call ray.get this time because we're just updating the actor's state\n",
    "# and we don't need to wait for the reply.\n",
    "impression_store.record_impressions.remote(test_session_key, impressions)\n",
    "\n",
    "print(\"Initial recommendations for movie {}:\".format(MOVIE_IDS[0]))\n",
    "recs"
   ]
  },
  {
   "cell_type": "markdown",
   "metadata": {},
   "source": [
    "Now that we've recorded some recommendations in the actor, we can see what happens to the user's distribution when we choose one of these movies.\n",
    "\n",
    "**Task:** Understand how the user's distribution shifts based on what movies they've liked so far.\n",
    "1. Evaluate the next cell a couple times and compare the output to the output above. What are the differences?\n",
    "2. Modify the code to shift the test user's distribution towards plot-based recommendations."
   ]
  },
  {
   "cell_type": "code",
   "execution_count": null,
   "metadata": {},
   "outputs": [],
   "source": [
    "# Mimic the user selecting a recommendation based on color.\n",
    "distribution = dict(ray.get(impression_store.model_distribution.remote(test_session_key, color_recs[0][\"id\"])))\n",
    "# Now the distribution will assign color recommendations a weight of 1.\n",
    "new_distribution, _, recs = choose_ensemble_results(distribution, {\"color\": color_recs, \"plot\": plot_recs})\n",
    "print(\n",
    "    \"Distribution after recording the user's preference\", new_distribution)\n",
    "\n",
    "print(\"Recommendations for movie {} after a user's click:\".format(MOVIE_IDS[0]))\n",
    "recs"
   ]
  },
  {
   "cell_type": "markdown",
   "metadata": {},
   "source": [
    "### Deploying the `ImpressionStore` with Ray Serve.\n",
    "\n",
    "Now let's integrate the `ImpressionStore` code with the ensemble model that we deployed earlier.\n",
    "\n",
    "**Task:**\n",
    "1. Modify the `CustomComposedModel` skeleton below to use the impression store. We've already instantiated the actor for you in the constructor. Modify the `__call__` method to:\n",
    "  - Get the user's current distribution from the impression store actor.\n",
    "  - Update the impression store actor with the new recommendations made for that user.\n",
    "\n",
    "2. Once you've finished these steps, evaluate the following cell to deploy the new backend.\n",
    "The following cell generates some test requests that chooses recommendations based on color, so that you can see how the distribution changes with each selection.\n",
    "\n",
    "**If you haven't finished but want to move on:** We've included a reference implementation of `CustomComposedModel` in the next cell. Show the code by clicking the \"...\" and evaluate it."
   ]
  },
  {
   "cell_type": "code",
   "execution_count": null,
   "metadata": {},
   "outputs": [],
   "source": [
    "class CustomComposedModel:\n",
    "    def __init__(self):\n",
    "        # Get handles to the two underlying models.\n",
    "        client = serve.connect()\n",
    "        self.color_handle = client.get_handle(\"color\")\n",
    "        self.plot_handle = client.get_handle(\"plot\")\n",
    "        \n",
    "        # Instantiate an impression store actor.\n",
    "        self.impression_store = ImpressionStore.remote()\n",
    "\n",
    "    def __call__(self, request):\n",
    "        session_key = request.args[\"session_key\"]\n",
    "        \n",
    "        # TODO: Call the two models and get their predictions.\n",
    "        \n",
    "        # TODO: Get the user's current distribution from the impression store actor.\n",
    "\n",
    "        # TODO: Combine the results using choose_ensemble_results.Select which results to send to the user based on their clicks.\n",
    "        #distribution, impressions, chosen = choose_ensemble_results(...)\n",
    "        \n",
    "        # TODO: Update the impression store actor with the sources of the recommendations\n",
    "        # returned in `chosen`.\n",
    "\n",
    "        return {\n",
    "#             \"dist\": distribution,\n",
    "#             \"ids\": chosen,\n",
    "#             \"sources\": {\n",
    "#                 i[\"id\"]: source\n",
    "#                 for source, impression in impressions.items()\n",
    "#                 for i in impression\n",
    "#             }\n",
    "        }"
   ]
  },
  {
   "cell_type": "code",
   "execution_count": null,
   "metadata": {
    "jupyter": {
     "source_hidden": true
    }
   },
   "outputs": [],
   "source": [
    "class CustomComposedModel:\n",
    "    def __init__(self):\n",
    "        # Get handles to the two underlying models.\n",
    "        client = serve.connect()\n",
    "        self.color_handle = client.get_handle(\"color\")\n",
    "        self.plot_handle = client.get_handle(\"plot\")\n",
    "        \n",
    "        # Instantiate an impression store actor.\n",
    "        self.impression_store = ImpressionStore.remote()\n",
    "\n",
    "    def __call__(self, request):\n",
    "        session_key = request.args[\"session_key\"]\n",
    "\n",
    "        # Call the two models and get their predictions.\n",
    "        liked_id = request.args[\"liked_id\"]\n",
    "        color_recs = self.color_handle.remote(liked_id=liked_id)\n",
    "        plot_recs = self.plot_handle.remote(liked_id=liked_id)\n",
    "        color_recs, plot_recs = ray.get([color_recs, plot_recs])\n",
    "\n",
    "        distribution = ray.get(self.impression_store.model_distribution.remote(session_key, liked_id))\n",
    "\n",
    "        # Combine the results using choose_ensemble_results.\n",
    "        distribution, impressions, chosen = choose_ensemble_results(distribution, {\n",
    "            \"color\": color_recs,\n",
    "            \"plot\": plot_recs,\n",
    "        })\n",
    "\n",
    "        self.impression_store.record_impressions.remote(session_key, impressions)\n",
    "\n",
    "        return {\n",
    "            \"dist\": distribution,\n",
    "            \"ids\": chosen,\n",
    "            \"sources\": {\n",
    "                i[\"id\"]: source\n",
    "                for source, impression in impressions.items()\n",
    "                for i in impression\n",
    "            }\n",
    "        }"
   ]
  },
  {
   "cell_type": "code",
   "execution_count": null,
   "metadata": {},
   "outputs": [],
   "source": [
    "# Delete the ensemble endpoint and backend, if they exist.\n",
    "# We wrap it in a try-except block since they shouldn't exist on the first evaluation.\n",
    "client.delete_endpoint(\"ensemble\")\n",
    "client.delete_backend(\"ensemble:v0\")\n",
    "\n",
    "# Create the ensemble backend and endpoint.\n",
    "# Tip! You can run this cell again if you need to debug the CustomComposedModel code.\n",
    "client.create_backend(backend_tag=\"ensemble:v0\", func_or_class=CustomComposedModel)\n",
    "client.create_endpoint(endpoint_name=\"ensemble\", backend=\"ensemble:v0\", route=\"/rec/ensemble\")"
   ]
  },
  {
   "cell_type": "code",
   "execution_count": null,
   "metadata": {},
   "outputs": [],
   "source": [
    "# This cell mimics a user picking a color-based recommendation, so you\n",
    "# can see the distribution afterwards.\n",
    "# Try to see if you can shift the distribution back towards plot-based\n",
    "# recommendations!\n",
    "\n",
    "response = send_ensemble_request(MOVIE_IDS[0], session_key=test_session_key)\n",
    "print(\"Initial recommendation\", response)\n",
    "for movie_id, source in response[\"sources\"].items():\n",
    "    if source == \"color\":\n",
    "        break\n",
    "response = send_ensemble_request(movie_id, session_key=test_session_key)\n",
    "print(\"Recommendation after selecting a color recommendation:\")\n",
    "response"
   ]
  },
  {
   "cell_type": "markdown",
   "metadata": {},
   "source": [
    "## Thanks for joining us today! If you...:\n",
    "\n",
    "- ...have some time, we'd love to hear your feedback! Please fill out this 1-minute [survey](https://forms.gle/yagdwutzCBrGcmZF7).\n",
    "\n",
    "- ...want to hear more about Ray and Ray Serve, visit some of these resources:\n",
    "\n",
    "    - Join the [Ray slack](https://forms.gle/9TSdDYUgxYs8SA9e8)\n",
    "    - Visit the [GitHub project](https://github.com/ray-project/ray) (more resources linked here)\n",
    "    - Read the [Ray](https://docs.ray.io/en/latest/index.html) and [Ray Serve](https://docs.ray.io/en/latest/serve/index.html) docs"
   ]
  },
  {
   "cell_type": "code",
   "execution_count": null,
   "metadata": {},
   "outputs": [],
   "source": []
  }
 ],
 "metadata": {
  "kernelspec": {
   "display_name": "Python 3",
   "language": "python",
   "name": "python3"
  },
  "language_info": {
   "codemirror_mode": {
    "name": "ipython",
    "version": 3
   },
   "file_extension": ".py",
   "mimetype": "text/x-python",
   "name": "python",
   "nbconvert_exporter": "python",
   "pygments_lexer": "ipython3",
   "version": "3.7.7"
  }
 },
 "nbformat": 4,
 "nbformat_minor": 4
}
